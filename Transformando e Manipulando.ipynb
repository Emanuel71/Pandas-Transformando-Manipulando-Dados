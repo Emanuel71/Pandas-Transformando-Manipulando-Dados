{
 "cells": [
  {
   "cell_type": "markdown",
   "id": "5a81748d-d44f-451a-ad82-a635bdb9b8d1",
   "metadata": {
    "jp-MarkdownHeadingCollapsed": true
   },
   "source": [
    "## Aula 01"
   ]
  },
  {
   "cell_type": "code",
   "execution_count": 240,
   "id": "4a815506-f208-44b3-8b69-eb51afd2897b",
   "metadata": {},
   "outputs": [
    {
     "data": {
      "text/html": [
       "<div>\n",
       "<style scoped>\n",
       "    .dataframe tbody tr th:only-of-type {\n",
       "        vertical-align: middle;\n",
       "    }\n",
       "\n",
       "    .dataframe tbody tr th {\n",
       "        vertical-align: top;\n",
       "    }\n",
       "\n",
       "    .dataframe thead th {\n",
       "        text-align: right;\n",
       "    }\n",
       "</style>\n",
       "<table border=\"1\" class=\"dataframe\">\n",
       "  <thead>\n",
       "    <tr style=\"text-align: right;\">\n",
       "      <th></th>\n",
       "      <th>info_moveis</th>\n",
       "    </tr>\n",
       "  </thead>\n",
       "  <tbody>\n",
       "    <tr>\n",
       "      <th>0</th>\n",
       "      <td>{'avaliacao_geral': '10.0', 'experiencia_local...</td>\n",
       "    </tr>\n",
       "    <tr>\n",
       "      <th>1</th>\n",
       "      <td>{'avaliacao_geral': '10.0', 'experiencia_local...</td>\n",
       "    </tr>\n",
       "    <tr>\n",
       "      <th>2</th>\n",
       "      <td>{'avaliacao_geral': '10.0', 'experiencia_local...</td>\n",
       "    </tr>\n",
       "    <tr>\n",
       "      <th>3</th>\n",
       "      <td>{'avaliacao_geral': '10.0', 'experiencia_local...</td>\n",
       "    </tr>\n",
       "    <tr>\n",
       "      <th>4</th>\n",
       "      <td>{'avaliacao_geral': '10.0', 'experiencia_local...</td>\n",
       "    </tr>\n",
       "  </tbody>\n",
       "</table>\n",
       "</div>"
      ],
      "text/plain": [
       "                                         info_moveis\n",
       "0  {'avaliacao_geral': '10.0', 'experiencia_local...\n",
       "1  {'avaliacao_geral': '10.0', 'experiencia_local...\n",
       "2  {'avaliacao_geral': '10.0', 'experiencia_local...\n",
       "3  {'avaliacao_geral': '10.0', 'experiencia_local...\n",
       "4  {'avaliacao_geral': '10.0', 'experiencia_local..."
      ]
     },
     "execution_count": 240,
     "metadata": {},
     "output_type": "execute_result"
    }
   ],
   "source": [
    "import pandas as pd\n",
    "\n",
    "dados = pd.read_json('dados_hospedagem.json')\n",
    "dados.head()"
   ]
  },
  {
   "cell_type": "code",
   "execution_count": 241,
   "id": "ae0c0e2e-d811-49af-89b1-2372f450b5f7",
   "metadata": {},
   "outputs": [
    {
     "data": {
      "text/html": [
       "<div>\n",
       "<style scoped>\n",
       "    .dataframe tbody tr th:only-of-type {\n",
       "        vertical-align: middle;\n",
       "    }\n",
       "\n",
       "    .dataframe tbody tr th {\n",
       "        vertical-align: top;\n",
       "    }\n",
       "\n",
       "    .dataframe thead th {\n",
       "        text-align: right;\n",
       "    }\n",
       "</style>\n",
       "<table border=\"1\" class=\"dataframe\">\n",
       "  <thead>\n",
       "    <tr style=\"text-align: right;\">\n",
       "      <th></th>\n",
       "      <th>avaliacao_geral</th>\n",
       "      <th>experiencia_local</th>\n",
       "      <th>max_hospedes</th>\n",
       "      <th>descricao_local</th>\n",
       "      <th>descricao_vizinhanca</th>\n",
       "      <th>quantidade_banheiros</th>\n",
       "      <th>quantidade_quartos</th>\n",
       "      <th>quantidade_camas</th>\n",
       "      <th>modelo_cama</th>\n",
       "      <th>comodidades</th>\n",
       "      <th>taxa_deposito</th>\n",
       "      <th>taxa_limpeza</th>\n",
       "      <th>preco</th>\n",
       "    </tr>\n",
       "  </thead>\n",
       "  <tbody>\n",
       "    <tr>\n",
       "      <th>0</th>\n",
       "      <td>10.0</td>\n",
       "      <td>--</td>\n",
       "      <td>1</td>\n",
       "      <td>[This clean and comfortable one bedroom sits r...</td>\n",
       "      <td>[Lower Queen Anne is near the Seattle Center (...</td>\n",
       "      <td>[1, 1, 1, 1, 1, 1, 1, 1, 1, 1, 1, 1, 1, 1, 1, ...</td>\n",
       "      <td>[1, 1, 1, 1, 1, 1, 1, 1, 1, 1, 1, 1, 1, 1, 1, ...</td>\n",
       "      <td>[1, 1, 1, 1, 1, 1, 1, 1, 1, 1, 1, 1, 1, 1, 1, ...</td>\n",
       "      <td>[Real Bed, Futon, Futon, Pull-out Sofa, Real B...</td>\n",
       "      <td>[{Internet,\"Wireless Internet\",Kitchen,\"Free P...</td>\n",
       "      <td>[$0, $0, $0, $0, $0, $350.00, $350.00, $350.00...</td>\n",
       "      <td>[$0, $0, $0, $20.00, $15.00, $28.00, $35.00, $...</td>\n",
       "      <td>[$110.00, $45.00, $55.00, $52.00, $85.00, $50....</td>\n",
       "    </tr>\n",
       "    <tr>\n",
       "      <th>1</th>\n",
       "      <td>10.0</td>\n",
       "      <td>--</td>\n",
       "      <td>10</td>\n",
       "      <td>[Welcome to the heart of the 'Ballard Brewery ...</td>\n",
       "      <td>[--, Capital Hill is the heart of Seattle, bor...</td>\n",
       "      <td>[2, 3, 2, 3, 3, 3, 2, 1, 2, 2, 2]</td>\n",
       "      <td>[3, 4, 2, 3, 3, 3, 3, 3, 3, 4, 3]</td>\n",
       "      <td>[5, 6, 8, 3, 3, 5, 4, 5, 6, 7, 4]</td>\n",
       "      <td>[Real Bed, Real Bed, Real Bed, Real Bed, Real ...</td>\n",
       "      <td>[{TV,Internet,\"Wireless Internet\",Kitchen,\"Fre...</td>\n",
       "      <td>[$500.00, $300.00, $0, $300.00, $300.00, $360....</td>\n",
       "      <td>[$125.00, $100.00, $85.00, $110.00, $110.00, $...</td>\n",
       "      <td>[$350.00, $300.00, $425.00, $300.00, $285.00, ...</td>\n",
       "    </tr>\n",
       "    <tr>\n",
       "      <th>2</th>\n",
       "      <td>10.0</td>\n",
       "      <td>--</td>\n",
       "      <td>11</td>\n",
       "      <td>[New modern house built in 2013.  Spectacular ...</td>\n",
       "      <td>[Upper Queen Anne is a charming neighborhood f...</td>\n",
       "      <td>[4]</td>\n",
       "      <td>[5]</td>\n",
       "      <td>[7]</td>\n",
       "      <td>[Real Bed]</td>\n",
       "      <td>[{TV,\"Cable TV\",Internet,\"Wireless Internet\",\"...</td>\n",
       "      <td>[$1,000.00]</td>\n",
       "      <td>[$300.00]</td>\n",
       "      <td>[$975.00]</td>\n",
       "    </tr>\n",
       "    <tr>\n",
       "      <th>3</th>\n",
       "      <td>10.0</td>\n",
       "      <td>--</td>\n",
       "      <td>12</td>\n",
       "      <td>[Our NW style home is 3200+ sq ft with 3 level...</td>\n",
       "      <td>[The Views from our top floor!  Wallingford ha...</td>\n",
       "      <td>[3, 3, 3, 3, 3, 3, 3, 3]</td>\n",
       "      <td>[6, 6, 5, 5, 5, 5, 4, 4]</td>\n",
       "      <td>[6, 6, 7, 8, 7, 7, 6, 6]</td>\n",
       "      <td>[Real Bed, Real Bed, Real Bed, Real Bed, Real ...</td>\n",
       "      <td>[{Internet,\"Wireless Internet\",Kitchen,\"Free P...</td>\n",
       "      <td>[$500.00, $500.00, $500.00, $500.00, $500.00, ...</td>\n",
       "      <td>[$225.00, $300.00, $250.00, $250.00, $250.00, ...</td>\n",
       "      <td>[$490.00, $550.00, $350.00, $350.00, $350.00, ...</td>\n",
       "    </tr>\n",
       "    <tr>\n",
       "      <th>4</th>\n",
       "      <td>10.0</td>\n",
       "      <td>--</td>\n",
       "      <td>14</td>\n",
       "      <td>[Perfect for groups. 2 bedrooms, full bathroom...</td>\n",
       "      <td>[Safeway grocery store within walking distance...</td>\n",
       "      <td>[2, 3]</td>\n",
       "      <td>[2, 6]</td>\n",
       "      <td>[3, 9]</td>\n",
       "      <td>[Real Bed, Real Bed]</td>\n",
       "      <td>[{TV,Internet,\"Wireless Internet\",Kitchen,\"Fre...</td>\n",
       "      <td>[$300.00, $2,000.00]</td>\n",
       "      <td>[$40.00, $150.00]</td>\n",
       "      <td>[$200.00, $545.00]</td>\n",
       "    </tr>\n",
       "  </tbody>\n",
       "</table>\n",
       "</div>"
      ],
      "text/plain": [
       "  avaliacao_geral experiencia_local max_hospedes  \\\n",
       "0            10.0                --            1   \n",
       "1            10.0                --           10   \n",
       "2            10.0                --           11   \n",
       "3            10.0                --           12   \n",
       "4            10.0                --           14   \n",
       "\n",
       "                                     descricao_local  \\\n",
       "0  [This clean and comfortable one bedroom sits r...   \n",
       "1  [Welcome to the heart of the 'Ballard Brewery ...   \n",
       "2  [New modern house built in 2013.  Spectacular ...   \n",
       "3  [Our NW style home is 3200+ sq ft with 3 level...   \n",
       "4  [Perfect for groups. 2 bedrooms, full bathroom...   \n",
       "\n",
       "                                descricao_vizinhanca  \\\n",
       "0  [Lower Queen Anne is near the Seattle Center (...   \n",
       "1  [--, Capital Hill is the heart of Seattle, bor...   \n",
       "2  [Upper Queen Anne is a charming neighborhood f...   \n",
       "3  [The Views from our top floor!  Wallingford ha...   \n",
       "4  [Safeway grocery store within walking distance...   \n",
       "\n",
       "                                quantidade_banheiros  \\\n",
       "0  [1, 1, 1, 1, 1, 1, 1, 1, 1, 1, 1, 1, 1, 1, 1, ...   \n",
       "1                  [2, 3, 2, 3, 3, 3, 2, 1, 2, 2, 2]   \n",
       "2                                                [4]   \n",
       "3                           [3, 3, 3, 3, 3, 3, 3, 3]   \n",
       "4                                             [2, 3]   \n",
       "\n",
       "                                  quantidade_quartos  \\\n",
       "0  [1, 1, 1, 1, 1, 1, 1, 1, 1, 1, 1, 1, 1, 1, 1, ...   \n",
       "1                  [3, 4, 2, 3, 3, 3, 3, 3, 3, 4, 3]   \n",
       "2                                                [5]   \n",
       "3                           [6, 6, 5, 5, 5, 5, 4, 4]   \n",
       "4                                             [2, 6]   \n",
       "\n",
       "                                    quantidade_camas  \\\n",
       "0  [1, 1, 1, 1, 1, 1, 1, 1, 1, 1, 1, 1, 1, 1, 1, ...   \n",
       "1                  [5, 6, 8, 3, 3, 5, 4, 5, 6, 7, 4]   \n",
       "2                                                [7]   \n",
       "3                           [6, 6, 7, 8, 7, 7, 6, 6]   \n",
       "4                                             [3, 9]   \n",
       "\n",
       "                                         modelo_cama  \\\n",
       "0  [Real Bed, Futon, Futon, Pull-out Sofa, Real B...   \n",
       "1  [Real Bed, Real Bed, Real Bed, Real Bed, Real ...   \n",
       "2                                         [Real Bed]   \n",
       "3  [Real Bed, Real Bed, Real Bed, Real Bed, Real ...   \n",
       "4                               [Real Bed, Real Bed]   \n",
       "\n",
       "                                         comodidades  \\\n",
       "0  [{Internet,\"Wireless Internet\",Kitchen,\"Free P...   \n",
       "1  [{TV,Internet,\"Wireless Internet\",Kitchen,\"Fre...   \n",
       "2  [{TV,\"Cable TV\",Internet,\"Wireless Internet\",\"...   \n",
       "3  [{Internet,\"Wireless Internet\",Kitchen,\"Free P...   \n",
       "4  [{TV,Internet,\"Wireless Internet\",Kitchen,\"Fre...   \n",
       "\n",
       "                                       taxa_deposito  \\\n",
       "0  [$0, $0, $0, $0, $0, $350.00, $350.00, $350.00...   \n",
       "1  [$500.00, $300.00, $0, $300.00, $300.00, $360....   \n",
       "2                                        [$1,000.00]   \n",
       "3  [$500.00, $500.00, $500.00, $500.00, $500.00, ...   \n",
       "4                               [$300.00, $2,000.00]   \n",
       "\n",
       "                                        taxa_limpeza  \\\n",
       "0  [$0, $0, $0, $20.00, $15.00, $28.00, $35.00, $...   \n",
       "1  [$125.00, $100.00, $85.00, $110.00, $110.00, $...   \n",
       "2                                          [$300.00]   \n",
       "3  [$225.00, $300.00, $250.00, $250.00, $250.00, ...   \n",
       "4                                  [$40.00, $150.00]   \n",
       "\n",
       "                                               preco  \n",
       "0  [$110.00, $45.00, $55.00, $52.00, $85.00, $50....  \n",
       "1  [$350.00, $300.00, $425.00, $300.00, $285.00, ...  \n",
       "2                                          [$975.00]  \n",
       "3  [$490.00, $550.00, $350.00, $350.00, $350.00, ...  \n",
       "4                                 [$200.00, $545.00]  "
      ]
     },
     "execution_count": 241,
     "metadata": {},
     "output_type": "execute_result"
    }
   ],
   "source": [
    "# Normalizando o Dataframe\n",
    "dados = pd.json_normalize(dados['info_moveis'])\n",
    "dados.head()"
   ]
  },
  {
   "cell_type": "markdown",
   "id": "6a9ef785-2ac9-49d5-ba9a-c2e6a87efc06",
   "metadata": {},
   "source": [
    "## Aula 02"
   ]
  },
  {
   "cell_type": "code",
   "execution_count": 243,
   "id": "d7f41677-8440-4d9e-bb11-ff0854911db4",
   "metadata": {},
   "outputs": [
    {
     "data": {
      "text/plain": [
       "['avaliacao_geral',\n",
       " 'experiencia_local',\n",
       " 'max_hospedes',\n",
       " 'descricao_local',\n",
       " 'descricao_vizinhanca',\n",
       " 'quantidade_banheiros',\n",
       " 'quantidade_quartos',\n",
       " 'quantidade_camas',\n",
       " 'modelo_cama',\n",
       " 'comodidades',\n",
       " 'taxa_deposito',\n",
       " 'taxa_limpeza',\n",
       " 'preco']"
      ]
     },
     "execution_count": 243,
     "metadata": {},
     "output_type": "execute_result"
    }
   ],
   "source": [
    "# Vamos separar os dados que estão agrupados nas colunas e transformar em varias linhas \n",
    "\n",
    "#Passo 1: selecionar os nomes nas colunas e transformar em um lista\n",
    "colunas = list(dados.columns)\n",
    "colunas"
   ]
  },
  {
   "cell_type": "code",
   "execution_count": 244,
   "id": "0f023d91-d7b3-4ce3-8c9c-3dbdbf27316a",
   "metadata": {},
   "outputs": [
    {
     "data": {
      "text/html": [
       "<div>\n",
       "<style scoped>\n",
       "    .dataframe tbody tr th:only-of-type {\n",
       "        vertical-align: middle;\n",
       "    }\n",
       "\n",
       "    .dataframe tbody tr th {\n",
       "        vertical-align: top;\n",
       "    }\n",
       "\n",
       "    .dataframe thead th {\n",
       "        text-align: right;\n",
       "    }\n",
       "</style>\n",
       "<table border=\"1\" class=\"dataframe\">\n",
       "  <thead>\n",
       "    <tr style=\"text-align: right;\">\n",
       "      <th></th>\n",
       "      <th>avaliacao_geral</th>\n",
       "      <th>experiencia_local</th>\n",
       "      <th>max_hospedes</th>\n",
       "      <th>descricao_local</th>\n",
       "      <th>descricao_vizinhanca</th>\n",
       "      <th>quantidade_banheiros</th>\n",
       "      <th>quantidade_quartos</th>\n",
       "      <th>quantidade_camas</th>\n",
       "      <th>modelo_cama</th>\n",
       "      <th>comodidades</th>\n",
       "      <th>taxa_deposito</th>\n",
       "      <th>taxa_limpeza</th>\n",
       "      <th>preco</th>\n",
       "    </tr>\n",
       "  </thead>\n",
       "  <tbody>\n",
       "    <tr>\n",
       "      <th>0</th>\n",
       "      <td>10.0</td>\n",
       "      <td>--</td>\n",
       "      <td>1</td>\n",
       "      <td>This clean and comfortable one bedroom sits ri...</td>\n",
       "      <td>Lower Queen Anne is near the Seattle Center (s...</td>\n",
       "      <td>1</td>\n",
       "      <td>1</td>\n",
       "      <td>1</td>\n",
       "      <td>Real Bed</td>\n",
       "      <td>{Internet,\"Wireless Internet\",Kitchen,\"Free Pa...</td>\n",
       "      <td>$0</td>\n",
       "      <td>$0</td>\n",
       "      <td>$110.00</td>\n",
       "    </tr>\n",
       "    <tr>\n",
       "      <th>0</th>\n",
       "      <td>10.0</td>\n",
       "      <td>--</td>\n",
       "      <td>1</td>\n",
       "      <td>Our century old Upper Queen Anne house is loca...</td>\n",
       "      <td>Upper Queen Anne is a really pleasant, unique ...</td>\n",
       "      <td>1</td>\n",
       "      <td>1</td>\n",
       "      <td>1</td>\n",
       "      <td>Futon</td>\n",
       "      <td>{TV,Internet,\"Wireless Internet\",Kitchen,\"Free...</td>\n",
       "      <td>$0</td>\n",
       "      <td>$0</td>\n",
       "      <td>$45.00</td>\n",
       "    </tr>\n",
       "    <tr>\n",
       "      <th>0</th>\n",
       "      <td>10.0</td>\n",
       "      <td>--</td>\n",
       "      <td>1</td>\n",
       "      <td>Cozy room in two-bedroom apartment along the l...</td>\n",
       "      <td>The convenience of being in Seattle but on the...</td>\n",
       "      <td>1</td>\n",
       "      <td>1</td>\n",
       "      <td>1</td>\n",
       "      <td>Futon</td>\n",
       "      <td>{TV,Internet,\"Wireless Internet\",Kitchen,\"Free...</td>\n",
       "      <td>$0</td>\n",
       "      <td>$0</td>\n",
       "      <td>$55.00</td>\n",
       "    </tr>\n",
       "    <tr>\n",
       "      <th>0</th>\n",
       "      <td>10.0</td>\n",
       "      <td>--</td>\n",
       "      <td>1</td>\n",
       "      <td>Very lovely and cozy room for one. Convenientl...</td>\n",
       "      <td>Ballard is lovely, vibrant and one of the most...</td>\n",
       "      <td>1</td>\n",
       "      <td>1</td>\n",
       "      <td>1</td>\n",
       "      <td>Pull-out Sofa</td>\n",
       "      <td>{Internet,\"Wireless Internet\",Kitchen,\"Free Pa...</td>\n",
       "      <td>$0</td>\n",
       "      <td>$20.00</td>\n",
       "      <td>$52.00</td>\n",
       "    </tr>\n",
       "    <tr>\n",
       "      <th>0</th>\n",
       "      <td>10.0</td>\n",
       "      <td>--</td>\n",
       "      <td>1</td>\n",
       "      <td>The “Studio at Mibbett Hollow' is in a Beautif...</td>\n",
       "      <td>--</td>\n",
       "      <td>1</td>\n",
       "      <td>1</td>\n",
       "      <td>1</td>\n",
       "      <td>Real Bed</td>\n",
       "      <td>{\"Wireless Internet\",Kitchen,\"Free Parking on ...</td>\n",
       "      <td>$0</td>\n",
       "      <td>$15.00</td>\n",
       "      <td>$85.00</td>\n",
       "    </tr>\n",
       "  </tbody>\n",
       "</table>\n",
       "</div>"
      ],
      "text/plain": [
       "  avaliacao_geral experiencia_local max_hospedes  \\\n",
       "0            10.0                --            1   \n",
       "0            10.0                --            1   \n",
       "0            10.0                --            1   \n",
       "0            10.0                --            1   \n",
       "0            10.0                --            1   \n",
       "\n",
       "                                     descricao_local  \\\n",
       "0  This clean and comfortable one bedroom sits ri...   \n",
       "0  Our century old Upper Queen Anne house is loca...   \n",
       "0  Cozy room in two-bedroom apartment along the l...   \n",
       "0  Very lovely and cozy room for one. Convenientl...   \n",
       "0  The “Studio at Mibbett Hollow' is in a Beautif...   \n",
       "\n",
       "                                descricao_vizinhanca quantidade_banheiros  \\\n",
       "0  Lower Queen Anne is near the Seattle Center (s...                    1   \n",
       "0  Upper Queen Anne is a really pleasant, unique ...                    1   \n",
       "0  The convenience of being in Seattle but on the...                    1   \n",
       "0  Ballard is lovely, vibrant and one of the most...                    1   \n",
       "0                                                 --                    1   \n",
       "\n",
       "  quantidade_quartos quantidade_camas    modelo_cama  \\\n",
       "0                  1                1       Real Bed   \n",
       "0                  1                1          Futon   \n",
       "0                  1                1          Futon   \n",
       "0                  1                1  Pull-out Sofa   \n",
       "0                  1                1       Real Bed   \n",
       "\n",
       "                                         comodidades taxa_deposito  \\\n",
       "0  {Internet,\"Wireless Internet\",Kitchen,\"Free Pa...            $0   \n",
       "0  {TV,Internet,\"Wireless Internet\",Kitchen,\"Free...            $0   \n",
       "0  {TV,Internet,\"Wireless Internet\",Kitchen,\"Free...            $0   \n",
       "0  {Internet,\"Wireless Internet\",Kitchen,\"Free Pa...            $0   \n",
       "0  {\"Wireless Internet\",Kitchen,\"Free Parking on ...            $0   \n",
       "\n",
       "  taxa_limpeza    preco  \n",
       "0           $0  $110.00  \n",
       "0           $0   $45.00  \n",
       "0           $0   $55.00  \n",
       "0       $20.00   $52.00  \n",
       "0       $15.00   $85.00  "
      ]
     },
     "execution_count": 244,
     "metadata": {},
     "output_type": "execute_result"
    }
   ],
   "source": [
    "#Passo 2: como podemos observar no dataframe acima, os agrupados começa na coluna 3\n",
    "#iremos usar o metado .explode para desagrupar essas lista\n",
    "dados = dados.explode(colunas[3:])\n",
    "dados.head()"
   ]
  },
  {
   "cell_type": "code",
   "execution_count": 245,
   "id": "5aa628fd-6b3c-4473-b87f-d83023d9fd6f",
   "metadata": {},
   "outputs": [
    {
     "name": "stdout",
     "output_type": "stream",
     "text": [
      "<class 'pandas.core.frame.DataFrame'>\n",
      "Index: 3818 entries, 0 to 69\n",
      "Data columns (total 13 columns):\n",
      " #   Column                Non-Null Count  Dtype \n",
      "---  ------                --------------  ----- \n",
      " 0   avaliacao_geral       3818 non-null   object\n",
      " 1   experiencia_local     3818 non-null   object\n",
      " 2   max_hospedes          3818 non-null   object\n",
      " 3   descricao_local       3818 non-null   object\n",
      " 4   descricao_vizinhanca  3818 non-null   object\n",
      " 5   quantidade_banheiros  3818 non-null   object\n",
      " 6   quantidade_quartos    3818 non-null   object\n",
      " 7   quantidade_camas      3818 non-null   object\n",
      " 8   modelo_cama           3818 non-null   object\n",
      " 9   comodidades           3818 non-null   object\n",
      " 10  taxa_deposito         3818 non-null   object\n",
      " 11  taxa_limpeza          3818 non-null   object\n",
      " 12  preco                 3818 non-null   object\n",
      "dtypes: object(13)\n",
      "memory usage: 417.6+ KB\n"
     ]
    }
   ],
   "source": [
    "# Vamos verificar os tipos de cada coluna\n",
    "dados.info()"
   ]
  },
  {
   "cell_type": "code",
   "execution_count": 246,
   "id": "fa6dfc52-b8b2-41b6-891d-7b009d023e20",
   "metadata": {},
   "outputs": [
    {
     "name": "stdout",
     "output_type": "stream",
     "text": [
      "<class 'pandas.core.frame.DataFrame'>\n",
      "Index: 3818 entries, 0 to 69\n",
      "Data columns (total 13 columns):\n",
      " #   Column                Non-Null Count  Dtype  \n",
      "---  ------                --------------  -----  \n",
      " 0   avaliacao_geral       3162 non-null   float64\n",
      " 1   experiencia_local     3818 non-null   object \n",
      " 2   max_hospedes          3818 non-null   int64  \n",
      " 3   descricao_local       3818 non-null   object \n",
      " 4   descricao_vizinhanca  3818 non-null   object \n",
      " 5   quantidade_banheiros  3818 non-null   int64  \n",
      " 6   quantidade_quartos    3818 non-null   int64  \n",
      " 7   quantidade_camas      3818 non-null   int64  \n",
      " 8   modelo_cama           3818 non-null   object \n",
      " 9   comodidades           3818 non-null   object \n",
      " 10  taxa_deposito         3818 non-null   object \n",
      " 11  taxa_limpeza          3818 non-null   object \n",
      " 12  preco                 3818 non-null   object \n",
      "dtypes: float64(1), int64(4), object(8)\n",
      "memory usage: 417.6+ KB\n"
     ]
    }
   ],
   "source": [
    "# Tranformando as coluna numericas em 'int64'\n",
    "# Podemos fazer de duas maneiras \n",
    "\n",
    "import numpy as np\n",
    "\n",
    "#1: alterar uma por uma\n",
    "dados['max_hospedes'] = dados['max_hospedes'].astype(np.int64)\n",
    "dados['avaliacao_geral'] = dados['avaliacao_geral'].astype(np.float64)\n",
    "\n",
    "#2: Criamos uma lista com nomes das colunas que deveram ser alterada\n",
    "col_numericas = ['quantidade_banheiros', 'quantidade_quartos', 'quantidade_camas']\n",
    "dados[col_numericas] = dados[col_numericas].astype(np.int64) \n",
    "\n",
    "dados.info()"
   ]
  },
  {
   "cell_type": "code",
   "execution_count": 247,
   "id": "3a3c82fb-271d-406d-9428-9aa712f79098",
   "metadata": {},
   "outputs": [
    {
     "data": {
      "text/plain": [
       "0     $110.00\n",
       "0      $45.00\n",
       "0      $55.00\n",
       "0      $52.00\n",
       "0      $85.00\n",
       "       ...   \n",
       "68    $299.00\n",
       "68    $199.00\n",
       "68    $400.00\n",
       "69    $250.00\n",
       "69    $350.00\n",
       "Name: preco, Length: 3818, dtype: object"
      ]
     },
     "execution_count": 247,
     "metadata": {},
     "output_type": "execute_result"
    }
   ],
   "source": [
    "# Vamos tratar as colunas numericas, que contem str ('$', ',')\n",
    "dados['preco']"
   ]
  },
  {
   "cell_type": "code",
   "execution_count": 248,
   "id": "72f059cb-a24a-4a51-9aed-9dd7d4cdbe6f",
   "metadata": {},
   "outputs": [
    {
     "data": {
      "text/plain": [
       "0     110.0\n",
       "0      45.0\n",
       "0      55.0\n",
       "0      52.0\n",
       "0      85.0\n",
       "      ...  \n",
       "68    299.0\n",
       "68    199.0\n",
       "68    400.0\n",
       "69    250.0\n",
       "69    350.0\n",
       "Name: preco, Length: 3818, dtype: float64"
      ]
     },
     "execution_count": 248,
     "metadata": {},
     "output_type": "execute_result"
    }
   ],
   "source": [
    "# Ultilizando a função'.apply(lambda x:)', .replace() para a substituição e .strip() para remoção de espaços\n",
    "\n",
    "dados['preco'] = dados['preco'].apply(lambda x: x.replace('$', '').replace(',','').strip()).astype(np.float64)\n",
    "dados['preco']"
   ]
  },
  {
   "cell_type": "code",
   "execution_count": 249,
   "id": "7bfe0920-fc41-422a-b886-cf0ae131ac8c",
   "metadata": {},
   "outputs": [
    {
     "name": "stdout",
     "output_type": "stream",
     "text": [
      "<class 'pandas.core.frame.DataFrame'>\n",
      "Index: 3818 entries, 0 to 69\n",
      "Data columns (total 13 columns):\n",
      " #   Column                Non-Null Count  Dtype  \n",
      "---  ------                --------------  -----  \n",
      " 0   avaliacao_geral       3162 non-null   float64\n",
      " 1   experiencia_local     3818 non-null   object \n",
      " 2   max_hospedes          3818 non-null   int64  \n",
      " 3   descricao_local       3818 non-null   object \n",
      " 4   descricao_vizinhanca  3818 non-null   object \n",
      " 5   quantidade_banheiros  3818 non-null   int64  \n",
      " 6   quantidade_quartos    3818 non-null   int64  \n",
      " 7   quantidade_camas      3818 non-null   int64  \n",
      " 8   modelo_cama           3818 non-null   object \n",
      " 9   comodidades           3818 non-null   object \n",
      " 10  taxa_deposito         3818 non-null   object \n",
      " 11  taxa_limpeza          3818 non-null   object \n",
      " 12  preco                 3818 non-null   float64\n",
      "dtypes: float64(2), int64(4), object(7)\n",
      "memory usage: 417.6+ KB\n"
     ]
    }
   ],
   "source": [
    "dados.info()"
   ]
  },
  {
   "cell_type": "markdown",
   "id": "8655007f-cf9a-4cea-ad1d-4d7a390ee114",
   "metadata": {},
   "source": [
    "## Aula 03"
   ]
  },
  {
   "cell_type": "code",
   "execution_count": 251,
   "id": "a56eda73-7b00-4a76-b5c9-a0f3e5cd212c",
   "metadata": {},
   "outputs": [
    {
     "name": "stdout",
     "output_type": "stream",
     "text": [
      "<class 'pandas.core.frame.DataFrame'>\n",
      "Index: 3818 entries, 0 to 69\n",
      "Data columns (total 13 columns):\n",
      " #   Column                Non-Null Count  Dtype  \n",
      "---  ------                --------------  -----  \n",
      " 0   avaliacao_geral       3162 non-null   float64\n",
      " 1   experiencia_local     3818 non-null   object \n",
      " 2   max_hospedes          3818 non-null   int64  \n",
      " 3   descricao_local       3818 non-null   object \n",
      " 4   descricao_vizinhanca  3818 non-null   object \n",
      " 5   quantidade_banheiros  3818 non-null   int64  \n",
      " 6   quantidade_quartos    3818 non-null   int64  \n",
      " 7   quantidade_camas      3818 non-null   int64  \n",
      " 8   modelo_cama           3818 non-null   object \n",
      " 9   comodidades           3818 non-null   object \n",
      " 10  taxa_deposito         3818 non-null   float64\n",
      " 11  taxa_limpeza          3818 non-null   float64\n",
      " 12  preco                 3818 non-null   float64\n",
      "dtypes: float64(4), int64(4), object(5)\n",
      "memory usage: 417.6+ KB\n"
     ]
    },
    {
     "name": "stderr",
     "output_type": "stream",
     "text": [
      "C:\\Users\\emanu\\AppData\\Local\\Temp\\ipykernel_16000\\945953782.py:3: FutureWarning: DataFrame.applymap has been deprecated. Use DataFrame.map instead.\n",
      "  dados[['taxa_deposito','taxa_limpeza']] = dados[['taxa_deposito','taxa_limpeza']].applymap(lambda x: x.replace('$', '').replace(',','')\n"
     ]
    }
   ],
   "source": [
    "# Dessa vez, iremos fazer a alteração de duas coluna de uma vez\n",
    "# Para isso usamos o metado \".applymap\", que aplica a função em dataframe inteiro\n",
    "dados[['taxa_deposito','taxa_limpeza']] = dados[['taxa_deposito','taxa_limpeza']].applymap(lambda x: x.replace('$', '').replace(',','')\n",
    "                                                                                           .strip()).astype(np.float64)\n",
    "dados.info()"
   ]
  },
  {
   "cell_type": "code",
   "execution_count": 252,
   "id": "57b1bcb8-344c-480c-961a-7d53feb1fb6e",
   "metadata": {},
   "outputs": [
    {
     "data": {
      "text/plain": [
       "0     this clean and comfortable one bedroom sits ri...\n",
       "0     our century old upper queen anne house is loca...\n",
       "0     cozy room in two-bedroom apartment along the l...\n",
       "0     very lovely and cozy room for one. convenientl...\n",
       "0     the “studio at mibbett hollow' is in a beautif...\n",
       "                            ...                        \n",
       "68    beautiful craftsman home in the historic wedgw...\n",
       "68    located in a very easily accessible area of se...\n",
       "68    this home is fully furnished and available wee...\n",
       "69    this business-themed modern home features:  *h...\n",
       "69    this welcoming home is in the quiet residentia...\n",
       "Name: descricao_local, Length: 3818, dtype: object"
      ]
     },
     "execution_count": 252,
     "metadata": {},
     "output_type": "execute_result"
    }
   ],
   "source": [
    "# Padronizando os dados da descrição local para minúsculas\n",
    "dados['descricao_local'].str.lower()"
   ]
  },
  {
   "cell_type": "code",
   "execution_count": 253,
   "id": "6cc493fe-0f40-4224-b762-60f64e7e3061",
   "metadata": {},
   "outputs": [
    {
     "data": {
      "text/plain": [
       "0     This clean and comfortable one bedroom sits ri...\n",
       "0     Our century old Upper Queen Anne house is loca...\n",
       "0     Cozy room in two-bedroom apartment along the l...\n",
       "0     Very lovely and cozy room for one  Convenientl...\n",
       "0     The  Studio at Mibbett Hollow' is in a Beautif...\n",
       "                            ...                        \n",
       "68    Beautiful craftsman home in the historic Wedgw...\n",
       "68    Located in a very easily accessible area of Se...\n",
       "68    This home is fully furnished and available wee...\n",
       "69    This business-themed modern home features    H...\n",
       "69    This welcoming home is in the quiet residentia...\n",
       "Name: descricao_local, Length: 3818, dtype: object"
      ]
     },
     "execution_count": 253,
     "metadata": {},
     "output_type": "execute_result"
    }
   ],
   "source": [
    "# Removendo pontuações não relevantes: (',', '!', ':', etc)\n",
    "# Usamos o '^' para não selecionar esses caracteres \"a-zA-Z0-9\\-\\'\".\n",
    "\n",
    "dados['descricao_local'] = dados['descricao_local'].str.replace(\"[^a-zA-Z0-9\\\\-\\\\']\",' ', regex=True)\n",
    "dados['descricao_local']"
   ]
  },
  {
   "cell_type": "code",
   "execution_count": 254,
   "id": "46a7aa40-6a81-45be-a0f4-ae02c34eda5b",
   "metadata": {},
   "outputs": [
    {
     "data": {
      "text/plain": [
       "0     This clean and comfortable one bedroom sits ri...\n",
       "0     Our century old Upper Queen Anne house is loca...\n",
       "0     Cozy room in two-bedroom apartment along the l...\n",
       "0     Very lovely and cozy room for one  Convenientl...\n",
       "0     The  Studio at Mibbett Hollow' is in a Beautif...\n",
       "                            ...                        \n",
       "68    Beautiful craftsman home in the historic Wedgw...\n",
       "68    Located in a very easily accessible area of Se...\n",
       "68    This home is fully furnished and available wee...\n",
       "69    This business-themed modern home features    H...\n",
       "69    This welcoming home is in the quiet residentia...\n",
       "Name: descricao_local, Length: 3818, dtype: object"
      ]
     },
     "execution_count": 254,
     "metadata": {},
     "output_type": "execute_result"
    }
   ],
   "source": [
    "#Removendo o caracter '-' que não faz parte de palavras compostas\n",
    "dados['descricao_local'] = dados['descricao_local'].str.replace('(?<!\\\\w)-(?!\\\\w)', '', regex=True)\n",
    "dados['descricao_local']"
   ]
  },
  {
   "cell_type": "code",
   "execution_count": 255,
   "id": "cbf8d8fe-070b-4977-aa6d-7bc011ac0e21",
   "metadata": {},
   "outputs": [
    {
     "data": {
      "text/plain": [
       "0     [This, clean, and, comfortable, one, bedroom, ...\n",
       "0     [Our, century, old, Upper, Queen, Anne, house,...\n",
       "0     [Cozy, room, in, two-bedroom, apartment, along...\n",
       "0     [Very, lovely, and, cozy, room, for, one, Conv...\n",
       "0     [The, Studio, at, Mibbett, Hollow', is, in, a,...\n",
       "                            ...                        \n",
       "68    [Beautiful, craftsman, home, in, the, historic...\n",
       "68    [Located, in, a, very, easily, accessible, are...\n",
       "68    [This, home, is, fully, furnished, and, availa...\n",
       "69    [This, business-themed, modern, home, features...\n",
       "69    [This, welcoming, home, is, in, the, quiet, re...\n",
       "Name: descricao_local, Length: 3818, dtype: object"
      ]
     },
     "execution_count": 255,
     "metadata": {},
     "output_type": "execute_result"
    }
   ],
   "source": [
    "# Após o tratamento e remoção dos caracteres, vamos realizar a tokenização .split()\n",
    "dados['descricao_local'] = dados['descricao_local'].str.split()\n",
    "dados['descricao_local']"
   ]
  },
  {
   "cell_type": "code",
   "execution_count": 256,
   "id": "c87cd4b1-d38d-4e18-b1c6-4222339e293b",
   "metadata": {},
   "outputs": [
    {
     "data": {
      "text/plain": [
       "0     [Internet, Wireless Internet, Kitchen, Free Pa...\n",
       "0     [TV, Internet, Wireless Internet, Kitchen, Fre...\n",
       "0     [TV, Internet, Wireless Internet, Kitchen, Fre...\n",
       "0     [Internet, Wireless Internet, Kitchen, Free Pa...\n",
       "0     [Wireless Internet, Kitchen, Free Parking on P...\n",
       "                            ...                        \n",
       "68    [TV, Cable TV, Internet, Wireless Internet, Ai...\n",
       "68    [TV, Cable TV, Internet, Wireless Internet, Ki...\n",
       "68    [TV, Cable TV, Internet, Wireless Internet, Ai...\n",
       "69    [TV, Cable TV, Internet, Wireless Internet, Ai...\n",
       "69    [TV, Internet, Wireless Internet, Kitchen, Fre...\n",
       "Name: comodidades, Length: 3818, dtype: object"
      ]
     },
     "execution_count": 256,
     "metadata": {},
     "output_type": "execute_result"
    }
   ],
   "source": [
    "#Vamos fazer tokenização da coluna 'comodidades'\n",
    "\n",
    "#Realizando o tratamento (removendo) os caracteres '{}' e ' \"\" '\n",
    "dados['comodidades'] = dados['comodidades'].str.replace('\\\\{|}|\\\\\"', '', regex=True )\n",
    "\n",
    "#Como a separação está por virgula, vamos apenas identificar no .split() a separador.\n",
    "dados['comodidades'] = dados['comodidades'].str.split(',')\n",
    "\n",
    "dados['comodidades']"
   ]
  },
  {
   "cell_type": "markdown",
   "id": "7a80786d-142d-4bc8-a5b3-3448b2b8207c",
   "metadata": {},
   "source": [
    "#### Desafio: faça você mesmo"
   ]
  },
  {
   "cell_type": "code",
   "execution_count": 258,
   "id": "87932657-7174-44a5-b4e1-cddf61a5eb8d",
   "metadata": {},
   "outputs": [],
   "source": [
    "#Vamos fazer tokenização da coluna 'descricao_vizinhanca'\n",
    "\n",
    "#Tranformando o texto em letros minusculas \n",
    "dados['descricao_vizinhanca'] = dados['descricao_vizinhanca'].str.lower()\n",
    "\n",
    "#Removendo os caracteres \n",
    "dados['descricao_vizinhanca'] = dados['descricao_vizinhanca'].str.replace(\"[^a-zA-Z0-9\\\\-\\\\']\", ' ', regex=True)\n",
    "\n",
    "#Removendo o caracter '-' que não faz parte de palavras compostas\n",
    "dados['descricao_vizinhanca'] = dados['descricao_vizinhanca'].str.replace(\"(?<!\\\\w)-(?!\\\\w)\", ' ', regex=True)\n",
    "\n",
    "#Fazendo a tokenização (lista)\n",
    "dados['descricao_vizinhanca'] = dados['descricao_vizinhanca'].str.split()"
   ]
  },
  {
   "cell_type": "code",
   "execution_count": 259,
   "id": "a2b67ee5-5eca-4815-992a-5a0030a8c331",
   "metadata": {},
   "outputs": [
    {
     "data": {
      "text/plain": [
       "0    [lower, queen, anne, is, near, the, seattle, c...\n",
       "0    [upper, queen, anne, is, a, really, pleasant, ...\n",
       "0    [the, convenience, of, being, in, seattle, but...\n",
       "0    [ballard, is, lovely, vibrant, and, one, of, t...\n",
       "0                                                   []\n",
       "                           ...                        \n",
       "0    [within, 60, seconds, to, ten, minutes, woodla...\n",
       "0                                                   []\n",
       "0    [fremont, is, only, 15, minutes, from, downtow...\n",
       "0    [the, neighborhood, is, amazing, it's, super, ...\n",
       "0                                                   []\n",
       "Name: descricao_vizinhanca, Length: 99, dtype: object"
      ]
     },
     "execution_count": 259,
     "metadata": {},
     "output_type": "execute_result"
    }
   ],
   "source": [
    "dados['descricao_vizinhanca'][0]"
   ]
  },
  {
   "cell_type": "code",
   "execution_count": 260,
   "id": "4c7f3a0c-4fe3-4d51-80c7-22bdccdfe28e",
   "metadata": {},
   "outputs": [
    {
     "data": {
      "text/html": [
       "<div>\n",
       "<style scoped>\n",
       "    .dataframe tbody tr th:only-of-type {\n",
       "        vertical-align: middle;\n",
       "    }\n",
       "\n",
       "    .dataframe tbody tr th {\n",
       "        vertical-align: top;\n",
       "    }\n",
       "\n",
       "    .dataframe thead th {\n",
       "        text-align: right;\n",
       "    }\n",
       "</style>\n",
       "<table border=\"1\" class=\"dataframe\">\n",
       "  <thead>\n",
       "    <tr style=\"text-align: right;\">\n",
       "      <th></th>\n",
       "      <th>avaliacao_geral</th>\n",
       "      <th>experiencia_local</th>\n",
       "      <th>max_hospedes</th>\n",
       "      <th>descricao_local</th>\n",
       "      <th>descricao_vizinhanca</th>\n",
       "      <th>quantidade_banheiros</th>\n",
       "      <th>quantidade_quartos</th>\n",
       "      <th>quantidade_camas</th>\n",
       "      <th>modelo_cama</th>\n",
       "      <th>comodidades</th>\n",
       "      <th>taxa_deposito</th>\n",
       "      <th>taxa_limpeza</th>\n",
       "      <th>preco</th>\n",
       "    </tr>\n",
       "  </thead>\n",
       "  <tbody>\n",
       "    <tr>\n",
       "      <th>0</th>\n",
       "      <td>10.0</td>\n",
       "      <td>--</td>\n",
       "      <td>1</td>\n",
       "      <td>[This, clean, and, comfortable, one, bedroom, ...</td>\n",
       "      <td>[lower, queen, anne, is, near, the, seattle, c...</td>\n",
       "      <td>1</td>\n",
       "      <td>1</td>\n",
       "      <td>1</td>\n",
       "      <td>Real Bed</td>\n",
       "      <td>[Internet, Wireless Internet, Kitchen, Free Pa...</td>\n",
       "      <td>0.0</td>\n",
       "      <td>0.0</td>\n",
       "      <td>110.0</td>\n",
       "    </tr>\n",
       "    <tr>\n",
       "      <th>0</th>\n",
       "      <td>10.0</td>\n",
       "      <td>--</td>\n",
       "      <td>1</td>\n",
       "      <td>[Our, century, old, Upper, Queen, Anne, house,...</td>\n",
       "      <td>[upper, queen, anne, is, a, really, pleasant, ...</td>\n",
       "      <td>1</td>\n",
       "      <td>1</td>\n",
       "      <td>1</td>\n",
       "      <td>Futon</td>\n",
       "      <td>[TV, Internet, Wireless Internet, Kitchen, Fre...</td>\n",
       "      <td>0.0</td>\n",
       "      <td>0.0</td>\n",
       "      <td>45.0</td>\n",
       "    </tr>\n",
       "    <tr>\n",
       "      <th>0</th>\n",
       "      <td>10.0</td>\n",
       "      <td>--</td>\n",
       "      <td>1</td>\n",
       "      <td>[Cozy, room, in, two-bedroom, apartment, along...</td>\n",
       "      <td>[the, convenience, of, being, in, seattle, but...</td>\n",
       "      <td>1</td>\n",
       "      <td>1</td>\n",
       "      <td>1</td>\n",
       "      <td>Futon</td>\n",
       "      <td>[TV, Internet, Wireless Internet, Kitchen, Fre...</td>\n",
       "      <td>0.0</td>\n",
       "      <td>0.0</td>\n",
       "      <td>55.0</td>\n",
       "    </tr>\n",
       "    <tr>\n",
       "      <th>0</th>\n",
       "      <td>10.0</td>\n",
       "      <td>--</td>\n",
       "      <td>1</td>\n",
       "      <td>[Very, lovely, and, cozy, room, for, one, Conv...</td>\n",
       "      <td>[ballard, is, lovely, vibrant, and, one, of, t...</td>\n",
       "      <td>1</td>\n",
       "      <td>1</td>\n",
       "      <td>1</td>\n",
       "      <td>Pull-out Sofa</td>\n",
       "      <td>[Internet, Wireless Internet, Kitchen, Free Pa...</td>\n",
       "      <td>0.0</td>\n",
       "      <td>20.0</td>\n",
       "      <td>52.0</td>\n",
       "    </tr>\n",
       "    <tr>\n",
       "      <th>0</th>\n",
       "      <td>10.0</td>\n",
       "      <td>--</td>\n",
       "      <td>1</td>\n",
       "      <td>[The, Studio, at, Mibbett, Hollow', is, in, a,...</td>\n",
       "      <td>[]</td>\n",
       "      <td>1</td>\n",
       "      <td>1</td>\n",
       "      <td>1</td>\n",
       "      <td>Real Bed</td>\n",
       "      <td>[Wireless Internet, Kitchen, Free Parking on P...</td>\n",
       "      <td>0.0</td>\n",
       "      <td>15.0</td>\n",
       "      <td>85.0</td>\n",
       "    </tr>\n",
       "  </tbody>\n",
       "</table>\n",
       "</div>"
      ],
      "text/plain": [
       "   avaliacao_geral experiencia_local  max_hospedes  \\\n",
       "0             10.0                --             1   \n",
       "0             10.0                --             1   \n",
       "0             10.0                --             1   \n",
       "0             10.0                --             1   \n",
       "0             10.0                --             1   \n",
       "\n",
       "                                     descricao_local  \\\n",
       "0  [This, clean, and, comfortable, one, bedroom, ...   \n",
       "0  [Our, century, old, Upper, Queen, Anne, house,...   \n",
       "0  [Cozy, room, in, two-bedroom, apartment, along...   \n",
       "0  [Very, lovely, and, cozy, room, for, one, Conv...   \n",
       "0  [The, Studio, at, Mibbett, Hollow', is, in, a,...   \n",
       "\n",
       "                                descricao_vizinhanca  quantidade_banheiros  \\\n",
       "0  [lower, queen, anne, is, near, the, seattle, c...                     1   \n",
       "0  [upper, queen, anne, is, a, really, pleasant, ...                     1   \n",
       "0  [the, convenience, of, being, in, seattle, but...                     1   \n",
       "0  [ballard, is, lovely, vibrant, and, one, of, t...                     1   \n",
       "0                                                 []                     1   \n",
       "\n",
       "   quantidade_quartos  quantidade_camas    modelo_cama  \\\n",
       "0                   1                 1       Real Bed   \n",
       "0                   1                 1          Futon   \n",
       "0                   1                 1          Futon   \n",
       "0                   1                 1  Pull-out Sofa   \n",
       "0                   1                 1       Real Bed   \n",
       "\n",
       "                                         comodidades  taxa_deposito  \\\n",
       "0  [Internet, Wireless Internet, Kitchen, Free Pa...            0.0   \n",
       "0  [TV, Internet, Wireless Internet, Kitchen, Fre...            0.0   \n",
       "0  [TV, Internet, Wireless Internet, Kitchen, Fre...            0.0   \n",
       "0  [Internet, Wireless Internet, Kitchen, Free Pa...            0.0   \n",
       "0  [Wireless Internet, Kitchen, Free Parking on P...            0.0   \n",
       "\n",
       "   taxa_limpeza  preco  \n",
       "0           0.0  110.0  \n",
       "0           0.0   45.0  \n",
       "0           0.0   55.0  \n",
       "0          20.0   52.0  \n",
       "0          15.0   85.0  "
      ]
     },
     "execution_count": 260,
     "metadata": {},
     "output_type": "execute_result"
    }
   ],
   "source": [
    "dados.head()"
   ]
  },
  {
   "cell_type": "markdown",
   "id": "c8de20e4-b78d-4994-bfa2-9bfc13f4e348",
   "metadata": {},
   "source": [
    "## Aula 04"
   ]
  },
  {
   "cell_type": "markdown",
   "id": "af14ebe4-cad7-44e3-970d-14f0b0382e41",
   "metadata": {},
   "source": [
    "Nessa aula, iremos trabalhar com uma nova base de dados a \"moveis.disponiveis.json\" para manipular dados de data e hora (datetime)."
   ]
  },
  {
   "cell_type": "code",
   "execution_count": 263,
   "id": "7d8c8349-c8cb-437b-84bc-17376248c1a5",
   "metadata": {},
   "outputs": [
    {
     "data": {
      "text/html": [
       "<div>\n",
       "<style scoped>\n",
       "    .dataframe tbody tr th:only-of-type {\n",
       "        vertical-align: middle;\n",
       "    }\n",
       "\n",
       "    .dataframe tbody tr th {\n",
       "        vertical-align: top;\n",
       "    }\n",
       "\n",
       "    .dataframe thead th {\n",
       "        text-align: right;\n",
       "    }\n",
       "</style>\n",
       "<table border=\"1\" class=\"dataframe\">\n",
       "  <thead>\n",
       "    <tr style=\"text-align: right;\">\n",
       "      <th></th>\n",
       "      <th>id</th>\n",
       "      <th>data</th>\n",
       "      <th>vaga_disponivel</th>\n",
       "      <th>preco</th>\n",
       "    </tr>\n",
       "  </thead>\n",
       "  <tbody>\n",
       "    <tr>\n",
       "      <th>0</th>\n",
       "      <td>857</td>\n",
       "      <td>2016-01-04</td>\n",
       "      <td>False</td>\n",
       "      <td>None</td>\n",
       "    </tr>\n",
       "    <tr>\n",
       "      <th>1</th>\n",
       "      <td>857</td>\n",
       "      <td>2016-01-05</td>\n",
       "      <td>False</td>\n",
       "      <td>None</td>\n",
       "    </tr>\n",
       "    <tr>\n",
       "      <th>2</th>\n",
       "      <td>857</td>\n",
       "      <td>2016-01-06</td>\n",
       "      <td>False</td>\n",
       "      <td>None</td>\n",
       "    </tr>\n",
       "    <tr>\n",
       "      <th>3</th>\n",
       "      <td>857</td>\n",
       "      <td>2016-01-07</td>\n",
       "      <td>False</td>\n",
       "      <td>None</td>\n",
       "    </tr>\n",
       "    <tr>\n",
       "      <th>4</th>\n",
       "      <td>857</td>\n",
       "      <td>2016-01-08</td>\n",
       "      <td>False</td>\n",
       "      <td>None</td>\n",
       "    </tr>\n",
       "    <tr>\n",
       "      <th>...</th>\n",
       "      <td>...</td>\n",
       "      <td>...</td>\n",
       "      <td>...</td>\n",
       "      <td>...</td>\n",
       "    </tr>\n",
       "    <tr>\n",
       "      <th>364995</th>\n",
       "      <td>3279</td>\n",
       "      <td>2016-12-29</td>\n",
       "      <td>True</td>\n",
       "      <td>$140.00</td>\n",
       "    </tr>\n",
       "    <tr>\n",
       "      <th>364996</th>\n",
       "      <td>3279</td>\n",
       "      <td>2016-12-30</td>\n",
       "      <td>True</td>\n",
       "      <td>$140.00</td>\n",
       "    </tr>\n",
       "    <tr>\n",
       "      <th>364997</th>\n",
       "      <td>3279</td>\n",
       "      <td>2016-12-31</td>\n",
       "      <td>True</td>\n",
       "      <td>$140.00</td>\n",
       "    </tr>\n",
       "    <tr>\n",
       "      <th>364998</th>\n",
       "      <td>3279</td>\n",
       "      <td>2017-01-01</td>\n",
       "      <td>True</td>\n",
       "      <td>$140.00</td>\n",
       "    </tr>\n",
       "    <tr>\n",
       "      <th>364999</th>\n",
       "      <td>3279</td>\n",
       "      <td>2017-01-02</td>\n",
       "      <td>False</td>\n",
       "      <td>None</td>\n",
       "    </tr>\n",
       "  </tbody>\n",
       "</table>\n",
       "<p>365000 rows × 4 columns</p>\n",
       "</div>"
      ],
      "text/plain": [
       "          id        data  vaga_disponivel    preco\n",
       "0        857  2016-01-04            False     None\n",
       "1        857  2016-01-05            False     None\n",
       "2        857  2016-01-06            False     None\n",
       "3        857  2016-01-07            False     None\n",
       "4        857  2016-01-08            False     None\n",
       "...      ...         ...              ...      ...\n",
       "364995  3279  2016-12-29             True  $140.00\n",
       "364996  3279  2016-12-30             True  $140.00\n",
       "364997  3279  2016-12-31             True  $140.00\n",
       "364998  3279  2017-01-01             True  $140.00\n",
       "364999  3279  2017-01-02            False     None\n",
       "\n",
       "[365000 rows x 4 columns]"
      ]
     },
     "execution_count": 263,
     "metadata": {},
     "output_type": "execute_result"
    }
   ],
   "source": [
    "import pandas as pd\n",
    "import datetime\n",
    "\n",
    "dt_data = pd.read_json('moveis_disponivel.json')\n",
    "dt_data"
   ]
  },
  {
   "cell_type": "code",
   "execution_count": 264,
   "id": "2e63d916-f26f-467f-96f9-4e6cddb1f3cd",
   "metadata": {},
   "outputs": [
    {
     "name": "stdout",
     "output_type": "stream",
     "text": [
      "<class 'pandas.core.frame.DataFrame'>\n",
      "Index: 365000 entries, 0 to 364999\n",
      "Data columns (total 4 columns):\n",
      " #   Column           Non-Null Count   Dtype \n",
      "---  ------           --------------   ----- \n",
      " 0   id               365000 non-null  int64 \n",
      " 1   data             365000 non-null  object\n",
      " 2   vaga_disponivel  365000 non-null  bool  \n",
      " 3   preco            270547 non-null  object\n",
      "dtypes: bool(1), int64(1), object(2)\n",
      "memory usage: 11.5+ MB\n"
     ]
    }
   ],
   "source": [
    "dt_data.info()"
   ]
  },
  {
   "cell_type": "code",
   "execution_count": 265,
   "id": "89402045-ddb9-4ffb-a1d1-6352bab660ed",
   "metadata": {},
   "outputs": [
    {
     "data": {
      "text/plain": [
       "0        2016-01-04\n",
       "1        2016-01-05\n",
       "2        2016-01-06\n",
       "3        2016-01-07\n",
       "4        2016-01-08\n",
       "            ...    \n",
       "364995   2016-12-29\n",
       "364996   2016-12-30\n",
       "364997   2016-12-31\n",
       "364998   2017-01-01\n",
       "364999   2017-01-02\n",
       "Name: data, Length: 365000, dtype: datetime64[ns]"
      ]
     },
     "execution_count": 265,
     "metadata": {},
     "output_type": "execute_result"
    }
   ],
   "source": [
    "# Alterando o tipo da coluna data para 'datetime'\n",
    "\n",
    "dt_data['data'] = pd.to_datetime(dt_data['data'])\n",
    "dt_data['data']"
   ]
  },
  {
   "cell_type": "code",
   "execution_count": 266,
   "id": "d49f1a00-7b0d-49ed-9ab5-a3c87ec30413",
   "metadata": {},
   "outputs": [
    {
     "name": "stdout",
     "output_type": "stream",
     "text": [
      "<class 'pandas.core.frame.DataFrame'>\n",
      "Index: 365000 entries, 0 to 364999\n",
      "Data columns (total 4 columns):\n",
      " #   Column           Non-Null Count   Dtype         \n",
      "---  ------           --------------   -----         \n",
      " 0   id               365000 non-null  int64         \n",
      " 1   data             365000 non-null  datetime64[ns]\n",
      " 2   vaga_disponivel  365000 non-null  bool          \n",
      " 3   preco            270547 non-null  object        \n",
      "dtypes: bool(1), datetime64[ns](1), int64(1), object(1)\n",
      "memory usage: 11.5+ MB\n"
     ]
    }
   ],
   "source": [
    "dt_data.info()"
   ]
  },
  {
   "cell_type": "code",
   "execution_count": 267,
   "id": "0e29995b-a648-4356-ab0e-e8e7dcd3e70b",
   "metadata": {},
   "outputs": [
    {
     "data": {
      "text/plain": [
       "0         2016-01\n",
       "1         2016-01\n",
       "2         2016-01\n",
       "3         2016-01\n",
       "4         2016-01\n",
       "           ...   \n",
       "364995    2016-12\n",
       "364996    2016-12\n",
       "364997    2016-12\n",
       "364998    2017-01\n",
       "364999    2017-01\n",
       "Name: data, Length: 365000, dtype: object"
      ]
     },
     "execution_count": 267,
     "metadata": {},
     "output_type": "execute_result"
    }
   ],
   "source": [
    "# Vamos realizar uma formatação na coluna data e apenas deixar ano-mes(Y%-m%)\n",
    "dt_data['data'].dt.strftime('%Y-%m')"
   ]
  },
  {
   "cell_type": "code",
   "execution_count": 268,
   "id": "0f7dd312-a212-44a8-8ef4-f1b75f5a391e",
   "metadata": {},
   "outputs": [
    {
     "data": {
      "text/plain": [
       "data\n",
       "2016-01    16543\n",
       "2016-02    20128\n",
       "2016-03    23357\n",
       "2016-04    22597\n",
       "2016-05    23842\n",
       "2016-06    23651\n",
       "2016-07    22329\n",
       "2016-08    22529\n",
       "2016-09    22471\n",
       "2016-10    23765\n",
       "2016-11    23352\n",
       "2016-12    24409\n",
       "2017-01     1574\n",
       "Name: vaga_disponivel, dtype: int64"
      ]
     },
     "execution_count": 268,
     "metadata": {},
     "output_type": "execute_result"
    }
   ],
   "source": [
    "# Fazendo essa modificação, podemos realizar um groupby e somar as \"vaga_disponiveis\" por mes\n",
    "\n",
    "subset = dt_data.groupby(dt_data['data'].dt.strftime('%Y-%m'))['vaga_disponivel'].sum()\n",
    "subset"
   ]
  },
  {
   "cell_type": "code",
   "execution_count": 269,
   "id": "423b1b8b-b9d7-4f44-b12a-6090718d0466",
   "metadata": {},
   "outputs": [
    {
     "data": {
      "text/html": [
       "<div>\n",
       "<style scoped>\n",
       "    .dataframe tbody tr th:only-of-type {\n",
       "        vertical-align: middle;\n",
       "    }\n",
       "\n",
       "    .dataframe tbody tr th {\n",
       "        vertical-align: top;\n",
       "    }\n",
       "\n",
       "    .dataframe thead th {\n",
       "        text-align: right;\n",
       "    }\n",
       "</style>\n",
       "<table border=\"1\" class=\"dataframe\">\n",
       "  <thead>\n",
       "    <tr style=\"text-align: right;\">\n",
       "      <th></th>\n",
       "      <th>id</th>\n",
       "      <th>data</th>\n",
       "      <th>vaga_disponivel</th>\n",
       "      <th>preco</th>\n",
       "    </tr>\n",
       "  </thead>\n",
       "  <tbody>\n",
       "    <tr>\n",
       "      <th>0</th>\n",
       "      <td>857</td>\n",
       "      <td>2016-01-04</td>\n",
       "      <td>False</td>\n",
       "      <td>None</td>\n",
       "    </tr>\n",
       "    <tr>\n",
       "      <th>1</th>\n",
       "      <td>857</td>\n",
       "      <td>2016-01-05</td>\n",
       "      <td>False</td>\n",
       "      <td>None</td>\n",
       "    </tr>\n",
       "    <tr>\n",
       "      <th>2</th>\n",
       "      <td>857</td>\n",
       "      <td>2016-01-06</td>\n",
       "      <td>False</td>\n",
       "      <td>None</td>\n",
       "    </tr>\n",
       "    <tr>\n",
       "      <th>3</th>\n",
       "      <td>857</td>\n",
       "      <td>2016-01-07</td>\n",
       "      <td>False</td>\n",
       "      <td>None</td>\n",
       "    </tr>\n",
       "    <tr>\n",
       "      <th>4</th>\n",
       "      <td>857</td>\n",
       "      <td>2016-01-08</td>\n",
       "      <td>False</td>\n",
       "      <td>None</td>\n",
       "    </tr>\n",
       "    <tr>\n",
       "      <th>...</th>\n",
       "      <td>...</td>\n",
       "      <td>...</td>\n",
       "      <td>...</td>\n",
       "      <td>...</td>\n",
       "    </tr>\n",
       "    <tr>\n",
       "      <th>364995</th>\n",
       "      <td>3279</td>\n",
       "      <td>2016-12-29</td>\n",
       "      <td>True</td>\n",
       "      <td>$140.00</td>\n",
       "    </tr>\n",
       "    <tr>\n",
       "      <th>364996</th>\n",
       "      <td>3279</td>\n",
       "      <td>2016-12-30</td>\n",
       "      <td>True</td>\n",
       "      <td>$140.00</td>\n",
       "    </tr>\n",
       "    <tr>\n",
       "      <th>364997</th>\n",
       "      <td>3279</td>\n",
       "      <td>2016-12-31</td>\n",
       "      <td>True</td>\n",
       "      <td>$140.00</td>\n",
       "    </tr>\n",
       "    <tr>\n",
       "      <th>364998</th>\n",
       "      <td>3279</td>\n",
       "      <td>2017-01-01</td>\n",
       "      <td>True</td>\n",
       "      <td>$140.00</td>\n",
       "    </tr>\n",
       "    <tr>\n",
       "      <th>364999</th>\n",
       "      <td>3279</td>\n",
       "      <td>2017-01-02</td>\n",
       "      <td>False</td>\n",
       "      <td>None</td>\n",
       "    </tr>\n",
       "  </tbody>\n",
       "</table>\n",
       "<p>365000 rows × 4 columns</p>\n",
       "</div>"
      ],
      "text/plain": [
       "          id       data  vaga_disponivel    preco\n",
       "0        857 2016-01-04            False     None\n",
       "1        857 2016-01-05            False     None\n",
       "2        857 2016-01-06            False     None\n",
       "3        857 2016-01-07            False     None\n",
       "4        857 2016-01-08            False     None\n",
       "...      ...        ...              ...      ...\n",
       "364995  3279 2016-12-29             True  $140.00\n",
       "364996  3279 2016-12-30             True  $140.00\n",
       "364997  3279 2016-12-31             True  $140.00\n",
       "364998  3279 2017-01-01             True  $140.00\n",
       "364999  3279 2017-01-02            False     None\n",
       "\n",
       "[365000 rows x 4 columns]"
      ]
     },
     "execution_count": 269,
     "metadata": {},
     "output_type": "execute_result"
    }
   ],
   "source": [
    "dt_data"
   ]
  },
  {
   "cell_type": "code",
   "execution_count": 297,
   "id": "56510e10-fb3a-4ff8-a107-75f6f87553c9",
   "metadata": {},
   "outputs": [
    {
     "data": {
      "text/plain": [
       "0             0.0\n",
       "1             0.0\n",
       "2             0.0\n",
       "3             0.0\n",
       "4             0.0\n",
       "           ...   \n",
       "364995    $140.00\n",
       "364996    $140.00\n",
       "364997    $140.00\n",
       "364998    $140.00\n",
       "364999        0.0\n",
       "Name: preco, Length: 365000, dtype: object"
      ]
     },
     "execution_count": 297,
     "metadata": {},
     "output_type": "execute_result"
    }
   ],
   "source": [
    "# Tratando os dados 'None' da coluna preco\n",
    "dt_data['preco'] = dt_data['preco'].fillna('0.0')\n",
    "dt_data['preco']"
   ]
  },
  {
   "cell_type": "code",
   "execution_count": 309,
   "id": "1d4dd430-829a-4ed4-a2cc-1ea2e0ed2fb4",
   "metadata": {},
   "outputs": [],
   "source": [
    "dt_data['preco'] = dt_data['preco'].str.replace(\"[^0-9\\\\.]\",\"\", regex=True)"
   ]
  },
  {
   "cell_type": "code",
   "execution_count": 313,
   "id": "1c884fba-c3cf-44a7-b428-65e23c340f65",
   "metadata": {},
   "outputs": [
    {
     "data": {
      "text/plain": [
       "0           0.0\n",
       "1           0.0\n",
       "2           0.0\n",
       "3           0.0\n",
       "4           0.0\n",
       "          ...  \n",
       "364995    140.0\n",
       "364996    140.0\n",
       "364997    140.0\n",
       "364998    140.0\n",
       "364999      0.0\n",
       "Name: preco, Length: 365000, dtype: float64"
      ]
     },
     "execution_count": 313,
     "metadata": {},
     "output_type": "execute_result"
    }
   ],
   "source": [
    "# Transformando a coluna preco no tipo 'float64'\n",
    "import numpy as np\n",
    "\n",
    "dt_data['preco'] = dt_data['preco'].astype(np.float64)\n",
    "dt_data['preco']"
   ]
  },
  {
   "cell_type": "code",
   "execution_count": 317,
   "id": "dc15bc77-860a-4c93-b78f-77d8993b95df",
   "metadata": {},
   "outputs": [
    {
     "name": "stdout",
     "output_type": "stream",
     "text": [
      "<class 'pandas.core.frame.DataFrame'>\n",
      "Index: 365000 entries, 0 to 364999\n",
      "Data columns (total 4 columns):\n",
      " #   Column           Non-Null Count   Dtype         \n",
      "---  ------           --------------   -----         \n",
      " 0   id               365000 non-null  int64         \n",
      " 1   data             365000 non-null  datetime64[ns]\n",
      " 2   vaga_disponivel  365000 non-null  bool          \n",
      " 3   preco            365000 non-null  float64       \n",
      "dtypes: bool(1), datetime64[ns](1), float64(1), int64(1)\n",
      "memory usage: 11.5 MB\n"
     ]
    }
   ],
   "source": [
    "dt_data.info()"
   ]
  },
  {
   "cell_type": "code",
   "execution_count": null,
   "id": "8fae1669-f7d7-4946-b1c8-65c8aae78dfa",
   "metadata": {},
   "outputs": [],
   "source": []
  }
 ],
 "metadata": {
  "kernelspec": {
   "display_name": "Python 3 (ipykernel)",
   "language": "python",
   "name": "python3"
  },
  "language_info": {
   "codemirror_mode": {
    "name": "ipython",
    "version": 3
   },
   "file_extension": ".py",
   "mimetype": "text/x-python",
   "name": "python",
   "nbconvert_exporter": "python",
   "pygments_lexer": "ipython3",
   "version": "3.12.7"
  }
 },
 "nbformat": 4,
 "nbformat_minor": 5
}
