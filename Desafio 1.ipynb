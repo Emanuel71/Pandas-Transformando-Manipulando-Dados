{
 "cells": [
  {
   "cell_type": "markdown",
   "id": "5c333cd8-3924-47db-a3b0-48681ea9d6da",
   "metadata": {},
   "source": [
    "## Desafio 1 - vendas online"
   ]
  },
  {
   "cell_type": "markdown",
   "id": "82ef3465-9760-4319-bf5e-ac667fa61fd0",
   "metadata": {},
   "source": [
    "O objetivo desse projeto é realizar uma análise dos resultados de um evento com os clientes de uma empresa de vendas online. Foi coletado um conjunto de dados que contém os clientes que mais gastaram com produtos dentro de 5 dias de vendas, que é o período de duração do evento. Essa análise vai identificar o cliente com a maior compra na semana, que irá receber um prêmio da loja, e posteriormente, ela pode ajudar a empresa a criar novas estratégias para atrair mais clientes."
   ]
  },
  {
   "cell_type": "code",
   "execution_count": 87,
   "id": "092a98a4-884a-40e7-8a32-e7ca3ccae2fd",
   "metadata": {},
   "outputs": [
    {
     "data": {
      "text/html": [
       "<div>\n",
       "<style scoped>\n",
       "    .dataframe tbody tr th:only-of-type {\n",
       "        vertical-align: middle;\n",
       "    }\n",
       "\n",
       "    .dataframe tbody tr th {\n",
       "        vertical-align: top;\n",
       "    }\n",
       "\n",
       "    .dataframe thead th {\n",
       "        text-align: right;\n",
       "    }\n",
       "</style>\n",
       "<table border=\"1\" class=\"dataframe\">\n",
       "  <thead>\n",
       "    <tr style=\"text-align: right;\">\n",
       "      <th></th>\n",
       "      <th>dados_vendas</th>\n",
       "    </tr>\n",
       "  </thead>\n",
       "  <tbody>\n",
       "    <tr>\n",
       "      <th>0</th>\n",
       "      <td>{'Data de venda': '06/06/2022', 'Cliente': ['@...</td>\n",
       "    </tr>\n",
       "    <tr>\n",
       "      <th>1</th>\n",
       "      <td>{'Data de venda': '07/06/2022', 'Cliente': ['I...</td>\n",
       "    </tr>\n",
       "  </tbody>\n",
       "</table>\n",
       "</div>"
      ],
      "text/plain": [
       "                                        dados_vendas\n",
       "0  {'Data de venda': '06/06/2022', 'Cliente': ['@...\n",
       "1  {'Data de venda': '07/06/2022', 'Cliente': ['I..."
      ]
     },
     "execution_count": 87,
     "metadata": {},
     "output_type": "execute_result"
    }
   ],
   "source": [
    "# Importando os dados \n",
    "import pandas as pd\n",
    "\n",
    "dados = pd.read_json('dados_vendas_clientes.json')\n",
    "dados.head(2)"
   ]
  },
  {
   "cell_type": "code",
   "execution_count": 88,
   "id": "a7703f08-97df-4c69-9df6-52c2644e8e6f",
   "metadata": {},
   "outputs": [
    {
     "data": {
      "text/html": [
       "<div>\n",
       "<style scoped>\n",
       "    .dataframe tbody tr th:only-of-type {\n",
       "        vertical-align: middle;\n",
       "    }\n",
       "\n",
       "    .dataframe tbody tr th {\n",
       "        vertical-align: top;\n",
       "    }\n",
       "\n",
       "    .dataframe thead th {\n",
       "        text-align: right;\n",
       "    }\n",
       "</style>\n",
       "<table border=\"1\" class=\"dataframe\">\n",
       "  <thead>\n",
       "    <tr style=\"text-align: right;\">\n",
       "      <th></th>\n",
       "      <th>Data de venda</th>\n",
       "      <th>Cliente</th>\n",
       "      <th>Valor da compra</th>\n",
       "    </tr>\n",
       "  </thead>\n",
       "  <tbody>\n",
       "    <tr>\n",
       "      <th>0</th>\n",
       "      <td>06/06/2022</td>\n",
       "      <td>[@ANA _LUCIA 321, DieGO ARMANDIU 210, DieGO AR...</td>\n",
       "      <td>[R$ 836,5, R$ 573,33, R$ 392,8, R$ 512,34]</td>\n",
       "    </tr>\n",
       "    <tr>\n",
       "      <th>1</th>\n",
       "      <td>07/06/2022</td>\n",
       "      <td>[Isabely JOanes 738, Isabely JOanes 738, Isabe...</td>\n",
       "      <td>[R$ 825,31, R$ 168,07, R$ 339,18, R$ 314,69]</td>\n",
       "    </tr>\n",
       "  </tbody>\n",
       "</table>\n",
       "</div>"
      ],
      "text/plain": [
       "  Data de venda                                            Cliente  \\\n",
       "0    06/06/2022  [@ANA _LUCIA 321, DieGO ARMANDIU 210, DieGO AR...   \n",
       "1    07/06/2022  [Isabely JOanes 738, Isabely JOanes 738, Isabe...   \n",
       "\n",
       "                                Valor da compra  \n",
       "0    [R$ 836,5, R$ 573,33, R$ 392,8, R$ 512,34]  \n",
       "1  [R$ 825,31, R$ 168,07, R$ 339,18, R$ 314,69]  "
      ]
     },
     "execution_count": 88,
     "metadata": {},
     "output_type": "execute_result"
    }
   ],
   "source": [
    "# Normalizando o Dataframe\n",
    "dados = pd.json_normalize(dados['dados_vendas'])\n",
    "dados.head(2)"
   ]
  },
  {
   "cell_type": "markdown",
   "id": "ba1d9b2d-dece-417e-93bb-bb4f59f239cb",
   "metadata": {},
   "source": [
    "Lemos a base de dados no desafio anterior, agora podemos avançar nas transformações desses dados. Então, o novo desafio do projeto 1 será dividido em algumas metas:"
   ]
  },
  {
   "cell_type": "code",
   "execution_count": 90,
   "id": "32ef7bea-4943-4ecc-b79e-3b70490fdc99",
   "metadata": {},
   "outputs": [
    {
     "data": {
      "text/html": [
       "<div>\n",
       "<style scoped>\n",
       "    .dataframe tbody tr th:only-of-type {\n",
       "        vertical-align: middle;\n",
       "    }\n",
       "\n",
       "    .dataframe tbody tr th {\n",
       "        vertical-align: top;\n",
       "    }\n",
       "\n",
       "    .dataframe thead th {\n",
       "        text-align: right;\n",
       "    }\n",
       "</style>\n",
       "<table border=\"1\" class=\"dataframe\">\n",
       "  <thead>\n",
       "    <tr style=\"text-align: right;\">\n",
       "      <th></th>\n",
       "      <th>Data de venda</th>\n",
       "      <th>Cliente</th>\n",
       "      <th>Valor da compra</th>\n",
       "    </tr>\n",
       "  </thead>\n",
       "  <tbody>\n",
       "    <tr>\n",
       "      <th>0</th>\n",
       "      <td>06/06/2022</td>\n",
       "      <td>@ANA _LUCIA 321</td>\n",
       "      <td>R$ 836,5</td>\n",
       "    </tr>\n",
       "    <tr>\n",
       "      <th>0</th>\n",
       "      <td>06/06/2022</td>\n",
       "      <td>DieGO ARMANDIU 210</td>\n",
       "      <td>R$ 573,33</td>\n",
       "    </tr>\n",
       "    <tr>\n",
       "      <th>0</th>\n",
       "      <td>06/06/2022</td>\n",
       "      <td>DieGO ARMANDIU 210</td>\n",
       "      <td>R$ 392,8</td>\n",
       "    </tr>\n",
       "    <tr>\n",
       "      <th>0</th>\n",
       "      <td>06/06/2022</td>\n",
       "      <td>DieGO ARMANDIU 210</td>\n",
       "      <td>R$ 512,34</td>\n",
       "    </tr>\n",
       "    <tr>\n",
       "      <th>1</th>\n",
       "      <td>07/06/2022</td>\n",
       "      <td>Isabely JOanes 738</td>\n",
       "      <td>R$ 825,31</td>\n",
       "    </tr>\n",
       "  </tbody>\n",
       "</table>\n",
       "</div>"
      ],
      "text/plain": [
       "  Data de venda             Cliente Valor da compra\n",
       "0    06/06/2022     @ANA _LUCIA 321        R$ 836,5\n",
       "0    06/06/2022  DieGO ARMANDIU 210       R$ 573,33\n",
       "0    06/06/2022  DieGO ARMANDIU 210        R$ 392,8\n",
       "0    06/06/2022  DieGO ARMANDIU 210       R$ 512,34\n",
       "1    07/06/2022  Isabely JOanes 738       R$ 825,31"
      ]
     },
     "execution_count": 90,
     "metadata": {},
     "output_type": "execute_result"
    }
   ],
   "source": [
    "#Remover os dados em listas dentro do DataFrame\n",
    "colunas = list(dados.columns[1:])\n",
    "dados = dados.explode(colunas)\n",
    "dados.head()"
   ]
  },
  {
   "cell_type": "code",
   "execution_count": 91,
   "id": "983f63a0-7fce-4633-973a-24bd348d4c47",
   "metadata": {},
   "outputs": [
    {
     "name": "stdout",
     "output_type": "stream",
     "text": [
      "<class 'pandas.core.frame.DataFrame'>\n",
      "Index: 20 entries, 0 to 4\n",
      "Data columns (total 3 columns):\n",
      " #   Column           Non-Null Count  Dtype \n",
      "---  ------           --------------  ----- \n",
      " 0   Data de venda    20 non-null     object\n",
      " 1   Cliente          20 non-null     object\n",
      " 2   Valor da compra  20 non-null     object\n",
      "dtypes: object(3)\n",
      "memory usage: 640.0+ bytes\n"
     ]
    }
   ],
   "source": [
    "#Verificar os tipos de dados\n",
    "dados.info()"
   ]
  },
  {
   "cell_type": "code",
   "execution_count": 92,
   "id": "25639ab3-cdc6-4dd0-9ba0-51175454a341",
   "metadata": {},
   "outputs": [
    {
     "data": {
      "text/plain": [
       "0     R$ 836,5\n",
       "0    R$ 573,33\n",
       "0     R$ 392,8\n",
       "0    R$ 512,34\n",
       "1    R$ 825,31\n",
       "Name: Valor da compra, dtype: object"
      ]
     },
     "execution_count": 92,
     "metadata": {},
     "output_type": "execute_result"
    }
   ],
   "source": [
    "#Identificar colunas numéricas\n",
    "dados['Valor da compra'].head()"
   ]
  },
  {
   "cell_type": "code",
   "execution_count": 93,
   "id": "e3895a23-b7dc-45c5-bcbb-f458ce00b0ca",
   "metadata": {},
   "outputs": [
    {
     "data": {
      "text/plain": [
       "0    836.50\n",
       "0    573.33\n",
       "0    392.80\n",
       "0    512.34\n",
       "1    825.31\n",
       "1    168.07\n",
       "1    339.18\n",
       "1    314.69\n",
       "2    682.05\n",
       "2    386.34\n",
       "2    622.65\n",
       "2    630.79\n",
       "3    390.30\n",
       "3    759.16\n",
       "3    334.47\n",
       "3    678.78\n",
       "4    314.24\n",
       "4    311.15\n",
       "4    899.16\n",
       "4    885.24\n",
       "Name: Valor da compra, dtype: float64"
      ]
     },
     "execution_count": 93,
     "metadata": {},
     "output_type": "execute_result"
    }
   ],
   "source": [
    "#Transformar a coluna numérica para o tipo numérico\n",
    "import numpy as np\n",
    "\n",
    "dados['Valor da compra'] = dados['Valor da compra'].apply(lambda x: x.replace('R$','').replace(',','.').strip()).astype(np.float64)\n",
    "dados['Valor da compra']"
   ]
  },
  {
   "cell_type": "code",
   "execution_count": 94,
   "id": "0353da16-5d19-4071-a88e-464eebde56fc",
   "metadata": {},
   "outputs": [
    {
     "name": "stdout",
     "output_type": "stream",
     "text": [
      "<class 'pandas.core.frame.DataFrame'>\n",
      "Index: 20 entries, 0 to 4\n",
      "Data columns (total 3 columns):\n",
      " #   Column           Non-Null Count  Dtype  \n",
      "---  ------           --------------  -----  \n",
      " 0   Data de venda    20 non-null     object \n",
      " 1   Cliente          20 non-null     object \n",
      " 2   Valor da compra  20 non-null     float64\n",
      "dtypes: float64(1), object(2)\n",
      "memory usage: 640.0+ bytes\n"
     ]
    }
   ],
   "source": [
    "dados.info()"
   ]
  },
  {
   "cell_type": "markdown",
   "id": "60b36488-d08d-442e-981b-2572cc50f75f",
   "metadata": {},
   "source": [
    "Devido a uma instabilidade no site da empresa, tivemos problemas com os nomes dos clientes durante o salvamento. Isso resultou em uma coluna de nomes de clientes com uma mistura de letras, maiúsculas e minúsculas, números e outros caracteres."
   ]
  },
  {
   "cell_type": "code",
   "execution_count": 96,
   "id": "aab1b2c2-6386-41a7-9afb-de59737390e6",
   "metadata": {},
   "outputs": [
    {
     "data": {
      "text/plain": [
       "0       @ANA _LUCIA 321\n",
       "0    DieGO ARMANDIU 210\n",
       "0    DieGO ARMANDIU 210\n",
       "0    DieGO ARMANDIU 210\n",
       "1    Isabely JOanes 738\n",
       "1    Isabely JOanes 738\n",
       "1    Isabely JOanes 738\n",
       "1    Isabely JOanes 738\n",
       "2    Isabely JOanes 738\n",
       "2      JOãO Gabriel 671\n",
       "2    Julya meireles 914\n",
       "2    Julya meireles 914\n",
       "3    Julya meireles 914\n",
       "3       MaRIA Julia 444\n",
       "3       MaRIA Julia 444\n",
       "3       MaRIA Julia 444\n",
       "4       MaRIA Julia 444\n",
       "4       PEDRO PASCO 812\n",
       "4      Paulo castro 481\n",
       "4     Thiago fritzz 883\n",
       "Name: Cliente, dtype: object"
      ]
     },
     "execution_count": 96,
     "metadata": {},
     "output_type": "execute_result"
    }
   ],
   "source": [
    "dados['Cliente']"
   ]
  },
  {
   "cell_type": "code",
   "execution_count": 97,
   "id": "aae73427-2cb8-4f30-a821-5172a3673778",
   "metadata": {},
   "outputs": [],
   "source": [
    "# Removendo caracteres especiais ou números da coluna 'Cliente'\n",
    "\n",
    "#Transformando os dados em letras minusculas \n",
    "dados['Cliente'] = dados['Cliente'].str.lower()\n",
    "\n",
    "#Removendo os caracter especiais e numeros\n",
    "dados['Cliente'] = dados['Cliente'].str.replace('[^a-z\\\\ã]', ' ', regex=True)\n",
    "\n",
    "#Removendo os espação de cada linha \n",
    "dados['Cliente'] = dados['Cliente'].apply(lambda x: x.strip())"
   ]
  },
  {
   "cell_type": "code",
   "execution_count": 98,
   "id": "6248ccab-d74b-4361-aa29-33821483bdf0",
   "metadata": {},
   "outputs": [
    {
     "data": {
      "text/plain": [
       "0        ana  lucia\n",
       "0    diego armandiu\n",
       "0    diego armandiu\n",
       "0    diego armandiu\n",
       "1    isabely joanes\n",
       "1    isabely joanes\n",
       "1    isabely joanes\n",
       "1    isabely joanes\n",
       "2    isabely joanes\n",
       "2      joão gabriel\n",
       "2    julya meireles\n",
       "2    julya meireles\n",
       "3    julya meireles\n",
       "3       maria julia\n",
       "3       maria julia\n",
       "3       maria julia\n",
       "4       maria julia\n",
       "4       pedro pasco\n",
       "4      paulo castro\n",
       "4     thiago fritzz\n",
       "Name: Cliente, dtype: object"
      ]
     },
     "execution_count": 98,
     "metadata": {},
     "output_type": "execute_result"
    }
   ],
   "source": [
    "dados['Cliente']"
   ]
  },
  {
   "cell_type": "code",
   "execution_count": 15,
   "id": "75028d93-5d39-4acc-bf6f-6ec6a819067a",
   "metadata": {},
   "outputs": [
    {
     "data": {
      "text/html": [
       "<div>\n",
       "<style scoped>\n",
       "    .dataframe tbody tr th:only-of-type {\n",
       "        vertical-align: middle;\n",
       "    }\n",
       "\n",
       "    .dataframe tbody tr th {\n",
       "        vertical-align: top;\n",
       "    }\n",
       "\n",
       "    .dataframe thead th {\n",
       "        text-align: right;\n",
       "    }\n",
       "</style>\n",
       "<table border=\"1\" class=\"dataframe\">\n",
       "  <thead>\n",
       "    <tr style=\"text-align: right;\">\n",
       "      <th></th>\n",
       "      <th>Data de venda</th>\n",
       "      <th>Cliente</th>\n",
       "      <th>Valor da compra</th>\n",
       "    </tr>\n",
       "  </thead>\n",
       "  <tbody>\n",
       "    <tr>\n",
       "      <th>0</th>\n",
       "      <td>06/06/2022</td>\n",
       "      <td>ana  lucia</td>\n",
       "      <td>836.50</td>\n",
       "    </tr>\n",
       "    <tr>\n",
       "      <th>0</th>\n",
       "      <td>06/06/2022</td>\n",
       "      <td>diego armandiu</td>\n",
       "      <td>573.33</td>\n",
       "    </tr>\n",
       "    <tr>\n",
       "      <th>0</th>\n",
       "      <td>06/06/2022</td>\n",
       "      <td>diego armandiu</td>\n",
       "      <td>392.80</td>\n",
       "    </tr>\n",
       "    <tr>\n",
       "      <th>0</th>\n",
       "      <td>06/06/2022</td>\n",
       "      <td>diego armandiu</td>\n",
       "      <td>512.34</td>\n",
       "    </tr>\n",
       "    <tr>\n",
       "      <th>1</th>\n",
       "      <td>07/06/2022</td>\n",
       "      <td>isabely joanes</td>\n",
       "      <td>825.31</td>\n",
       "    </tr>\n",
       "  </tbody>\n",
       "</table>\n",
       "</div>"
      ],
      "text/plain": [
       "  Data de venda         Cliente  Valor da compra\n",
       "0    06/06/2022      ana  lucia           836.50\n",
       "0    06/06/2022  diego armandiu           573.33\n",
       "0    06/06/2022  diego armandiu           392.80\n",
       "0    06/06/2022  diego armandiu           512.34\n",
       "1    07/06/2022  isabely joanes           825.31"
      ]
     },
     "execution_count": 15,
     "metadata": {},
     "output_type": "execute_result"
    }
   ],
   "source": [
    "dados.head()"
   ]
  },
  {
   "cell_type": "code",
   "execution_count": 109,
   "id": "bf2db94d-fc51-4b6b-897d-456abe3bc935",
   "metadata": {},
   "outputs": [
    {
     "name": "stdout",
     "output_type": "stream",
     "text": [
      "<class 'pandas.core.frame.DataFrame'>\n",
      "Index: 20 entries, 0 to 4\n",
      "Data columns (total 3 columns):\n",
      " #   Column           Non-Null Count  Dtype         \n",
      "---  ------           --------------  -----         \n",
      " 0   Data de venda    20 non-null     datetime64[ns]\n",
      " 1   Cliente          20 non-null     object        \n",
      " 2   Valor da compra  20 non-null     float64       \n",
      "dtypes: datetime64[ns](1), float64(1), object(1)\n",
      "memory usage: 640.0+ bytes\n"
     ]
    }
   ],
   "source": [
    "# Alterando o tipo da coluna Data de venda para 'datetime'\n",
    "dados['Data de venda'] = pd.to_datetime(dados['Data de venda'])\n",
    "dados.info()"
   ]
  },
  {
   "cell_type": "code",
   "execution_count": 111,
   "id": "7246df6a-0fbd-4271-a5c6-94aa979678da",
   "metadata": {},
   "outputs": [
    {
     "data": {
      "text/plain": [
       "0    06-06\n",
       "0    06-06\n",
       "0    06-06\n",
       "0    06-06\n",
       "1    07-06\n",
       "1    07-06\n",
       "1    07-06\n",
       "1    07-06\n",
       "2    08-06\n",
       "2    08-06\n",
       "2    08-06\n",
       "2    08-06\n",
       "3    09-06\n",
       "3    09-06\n",
       "3    09-06\n",
       "3    09-06\n",
       "4    10-06\n",
       "4    10-06\n",
       "4    10-06\n",
       "4    10-06\n",
       "Name: Data de venda, dtype: object"
      ]
     },
     "execution_count": 111,
     "metadata": {},
     "output_type": "execute_result"
    }
   ],
   "source": [
    "dados['Data de venda'] = dados['Data de venda'].dt.strftime('%m-%d')\n",
    "dados['Data de venda']"
   ]
  },
  {
   "cell_type": "code",
   "execution_count": 151,
   "id": "c53ecf8d-43d8-4228-bc48-a80ac8fb6beb",
   "metadata": {},
   "outputs": [
    {
     "data": {
      "text/html": [
       "<div>\n",
       "<style scoped>\n",
       "    .dataframe tbody tr th:only-of-type {\n",
       "        vertical-align: middle;\n",
       "    }\n",
       "\n",
       "    .dataframe tbody tr th {\n",
       "        vertical-align: top;\n",
       "    }\n",
       "\n",
       "    .dataframe thead th {\n",
       "        text-align: right;\n",
       "    }\n",
       "</style>\n",
       "<table border=\"1\" class=\"dataframe\">\n",
       "  <thead>\n",
       "    <tr style=\"text-align: right;\">\n",
       "      <th></th>\n",
       "      <th>Cliente</th>\n",
       "      <th>Valor da compra</th>\n",
       "    </tr>\n",
       "  </thead>\n",
       "  <tbody>\n",
       "    <tr>\n",
       "      <th>0</th>\n",
       "      <td>ana  lucia</td>\n",
       "      <td>836.50</td>\n",
       "    </tr>\n",
       "    <tr>\n",
       "      <th>1</th>\n",
       "      <td>diego armandiu</td>\n",
       "      <td>1478.47</td>\n",
       "    </tr>\n",
       "    <tr>\n",
       "      <th>2</th>\n",
       "      <td>isabely joanes</td>\n",
       "      <td>2329.30</td>\n",
       "    </tr>\n",
       "    <tr>\n",
       "      <th>3</th>\n",
       "      <td>joão gabriel</td>\n",
       "      <td>386.34</td>\n",
       "    </tr>\n",
       "    <tr>\n",
       "      <th>4</th>\n",
       "      <td>julya meireles</td>\n",
       "      <td>1643.74</td>\n",
       "    </tr>\n",
       "    <tr>\n",
       "      <th>5</th>\n",
       "      <td>maria julia</td>\n",
       "      <td>2086.65</td>\n",
       "    </tr>\n",
       "    <tr>\n",
       "      <th>6</th>\n",
       "      <td>paulo castro</td>\n",
       "      <td>899.16</td>\n",
       "    </tr>\n",
       "    <tr>\n",
       "      <th>7</th>\n",
       "      <td>pedro pasco</td>\n",
       "      <td>311.15</td>\n",
       "    </tr>\n",
       "    <tr>\n",
       "      <th>8</th>\n",
       "      <td>thiago fritzz</td>\n",
       "      <td>885.24</td>\n",
       "    </tr>\n",
       "  </tbody>\n",
       "</table>\n",
       "</div>"
      ],
      "text/plain": [
       "          Cliente  Valor da compra\n",
       "0      ana  lucia           836.50\n",
       "1  diego armandiu          1478.47\n",
       "2  isabely joanes          2329.30\n",
       "3    joão gabriel           386.34\n",
       "4  julya meireles          1643.74\n",
       "5     maria julia          2086.65\n",
       "6    paulo castro           899.16\n",
       "7     pedro pasco           311.15\n",
       "8   thiago fritzz           885.24"
      ]
     },
     "execution_count": 151,
     "metadata": {},
     "output_type": "execute_result"
    }
   ],
   "source": [
    "subconjunto = dados.groupby(['Cliente'])['Valor da compra'].sum().reset_index()\n",
    "subconjunto "
   ]
  },
  {
   "cell_type": "code",
   "execution_count": 153,
   "id": "491bbc2a-6163-4089-9714-0586fefca48a",
   "metadata": {},
   "outputs": [
    {
     "data": {
      "text/plain": [
       "2"
      ]
     },
     "execution_count": 153,
     "metadata": {},
     "output_type": "execute_result"
    }
   ],
   "source": [
    "# identificar o cliente com a maior compra na semana\n",
    "subconjunto['Valor da compra'].idxmax()"
   ]
  },
  {
   "cell_type": "code",
   "execution_count": null,
   "id": "bae64e16-eba5-4dc8-9bb9-20eeb7e186b0",
   "metadata": {},
   "outputs": [],
   "source": []
  }
 ],
 "metadata": {
  "kernelspec": {
   "display_name": "Python 3 (ipykernel)",
   "language": "python",
   "name": "python3"
  },
  "language_info": {
   "codemirror_mode": {
    "name": "ipython",
    "version": 3
   },
   "file_extension": ".py",
   "mimetype": "text/x-python",
   "name": "python",
   "nbconvert_exporter": "python",
   "pygments_lexer": "ipython3",
   "version": "3.12.7"
  }
 },
 "nbformat": 4,
 "nbformat_minor": 5
}
